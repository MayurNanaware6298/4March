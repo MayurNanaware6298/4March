{
 "cells": [
  {
   "cell_type": "markdown",
   "id": "f7dfee6e",
   "metadata": {},
   "source": [
    "# IF ELSE STATEMENT"
   ]
  },
  {
   "cell_type": "code",
   "execution_count": 1,
   "id": "7b52b298",
   "metadata": {},
   "outputs": [
    {
     "name": "stdout",
     "output_type": "stream",
     "text": [
      "x is greater than 20\n"
     ]
    }
   ],
   "source": [
    "x=30\n",
    "if x==30:\n",
    "    print('x is greater than 20')\n",
    "else:\n",
    "    print('x is less than 30')"
   ]
  },
  {
   "cell_type": "code",
   "execution_count": 7,
   "id": "2d7047fd",
   "metadata": {},
   "outputs": [
    {
     "name": "stdout",
     "output_type": "stream",
     "text": [
      "Welcome to the fanacial capital of India.\n"
     ]
    }
   ],
   "source": [
    "city = 'Mumbai'\n",
    "\n",
    "if city == 'New Delhi':\n",
    "    print('Welcome to Indian capital.')\n",
    "elif city == 'Mumbai':\n",
    "    print('Welcome to the fanacial capital of India.')\n",
    "elif city == 'Pune':\n",
    "    print('Welcome to IT hub of Maharashtra.')\n",
    "else:\n",
    "    print('Where are you?')"
   ]
  },
  {
   "cell_type": "code",
   "execution_count": 11,
   "id": "71363d8e",
   "metadata": {},
   "outputs": [
    {
     "name": "stdout",
     "output_type": "stream",
     "text": [
      "Welcome! What's your name\n"
     ]
    }
   ],
   "source": [
    "person = 'Johnny'\n",
    "if person == 'Peter':\n",
    "    print(f'Welcome {person}!')\n",
    "else:\n",
    "    print(\"Welcome! What's your name.\")"
   ]
  },
  {
   "cell_type": "code",
   "execution_count": 27,
   "id": "7a75fc9c",
   "metadata": {},
   "outputs": [
    {
     "name": "stdout",
     "output_type": "stream",
     "text": [
      "18\n"
     ]
    }
   ],
   "source": [
    "n1 = 8\n",
    "n2 = 10\n",
    "\n",
    "if n1 > 0:\n",
    "    if n2<=10:\n",
    "        print(n1+n2)\n",
    "    else:\n",
    "        print(\"Should be greater than 10.\")\n",
    "elif n1<0:\n",
    "    print(\"That's a Negative Number.\")\n",
    "else:\n",
    "    print('Number is 0.')"
   ]
  },
  {
   "cell_type": "markdown",
   "id": "74cf0ae6",
   "metadata": {},
   "source": [
    "THEUTHY & FALSY"
   ]
  },
  {
   "cell_type": "code",
   "execution_count": 28,
   "id": "e0a6c59e",
   "metadata": {},
   "outputs": [
    {
     "name": "stdout",
     "output_type": "stream",
     "text": [
      "I have nothing to say\n"
     ]
    }
   ],
   "source": [
    "if False:\n",
    "    print('What do you say?')\n",
    "else:\n",
    "    print('I have nothing to say')"
   ]
  },
  {
   "cell_type": "markdown",
   "id": "656023f5",
   "metadata": {},
   "source": [
    "# LOOPS"
   ]
  },
  {
   "cell_type": "code",
   "execution_count": 1,
   "id": "e0fa03f9",
   "metadata": {},
   "outputs": [],
   "source": [
    "Sentence = 'Every action has an equal and apposite reaction'"
   ]
  },
  {
   "cell_type": "code",
   "execution_count": 4,
   "id": "e600bedd",
   "metadata": {},
   "outputs": [
    {
     "name": "stdout",
     "output_type": "stream",
     "text": [
      " The character is E\n",
      " The character is v\n",
      " The character is e\n",
      " The character is r\n",
      " The character is y\n",
      " The character is  \n",
      " The character is a\n",
      " The character is c\n",
      " The character is t\n",
      " The character is i\n",
      " The character is o\n",
      " The character is n\n",
      " The character is  \n",
      " The character is h\n",
      " The character is a\n",
      " The character is s\n",
      " The character is  \n",
      " The character is a\n",
      " The character is n\n",
      " The character is  \n",
      " The character is e\n",
      " The character is q\n",
      " The character is u\n",
      " The character is a\n",
      " The character is l\n",
      " The character is  \n",
      " The character is a\n",
      " The character is n\n",
      " The character is d\n",
      " The character is  \n",
      " The character is a\n",
      " The character is p\n",
      " The character is p\n",
      " The character is o\n",
      " The character is s\n",
      " The character is i\n",
      " The character is t\n",
      " The character is e\n",
      " The character is  \n",
      " The character is r\n",
      " The character is e\n",
      " The character is a\n",
      " The character is c\n",
      " The character is t\n",
      " The character is i\n",
      " The character is o\n",
      " The character is n\n"
     ]
    }
   ],
   "source": [
    "for char in Sentence:\n",
    "    print(f\" The character is {char}\")"
   ]
  },
  {
   "cell_type": "code",
   "execution_count": 6,
   "id": "bf7caca1",
   "metadata": {},
   "outputs": [
    {
     "name": "stdout",
     "output_type": "stream",
     "text": [
      " The index is 0 and value is E\n",
      " The index is 1 and value is v\n",
      " The index is 2 and value is e\n",
      " The index is 3 and value is r\n",
      " The index is 4 and value is y\n",
      " The index is 5 and value is  \n",
      " The index is 6 and value is a\n",
      " The index is 7 and value is c\n",
      " The index is 8 and value is t\n",
      " The index is 9 and value is i\n",
      " The index is 10 and value is o\n",
      " The index is 11 and value is n\n",
      " The index is 12 and value is  \n",
      " The index is 13 and value is h\n",
      " The index is 14 and value is a\n",
      " The index is 15 and value is s\n",
      " The index is 16 and value is  \n",
      " The index is 17 and value is a\n",
      " The index is 18 and value is n\n",
      " The index is 19 and value is  \n",
      " The index is 20 and value is e\n",
      " The index is 21 and value is q\n",
      " The index is 22 and value is u\n",
      " The index is 23 and value is a\n",
      " The index is 24 and value is l\n",
      " The index is 25 and value is  \n",
      " The index is 26 and value is a\n",
      " The index is 27 and value is n\n",
      " The index is 28 and value is d\n",
      " The index is 29 and value is  \n",
      " The index is 30 and value is a\n",
      " The index is 31 and value is p\n",
      " The index is 32 and value is p\n",
      " The index is 33 and value is o\n",
      " The index is 34 and value is s\n",
      " The index is 35 and value is i\n",
      " The index is 36 and value is t\n",
      " The index is 37 and value is e\n",
      " The index is 38 and value is  \n",
      " The index is 39 and value is r\n",
      " The index is 40 and value is e\n",
      " The index is 41 and value is a\n",
      " The index is 42 and value is c\n",
      " The index is 43 and value is t\n",
      " The index is 44 and value is i\n",
      " The index is 45 and value is o\n",
      " The index is 46 and value is n\n"
     ]
    }
   ],
   "source": [
    "for index,char in enumerate(Sentence):\n",
    "    print(F' The index is {index} and value is {char}')"
   ]
  },
  {
   "cell_type": "code",
   "execution_count": 9,
   "id": "f1a4aa67",
   "metadata": {},
   "outputs": [
    {
     "name": "stdout",
     "output_type": "stream",
     "text": [
      "['Every', 'action', 'has', 'an', 'equal', 'and', 'apposite', 'reaction']\n"
     ]
    }
   ],
   "source": [
    "words = Sentence.split(' ')\n",
    "print(words)"
   ]
  },
  {
   "cell_type": "code",
   "execution_count": 10,
   "id": "76b7166e",
   "metadata": {},
   "outputs": [
    {
     "data": {
      "text/plain": [
       "('Sunday', 'Monday', 'Tuesday', 'Wednesday', 'Thursday', 'Friday', 'Saturday')"
      ]
     },
     "execution_count": 10,
     "metadata": {},
     "output_type": "execute_result"
    }
   ],
   "source": [
    "days = ('Sunday','Monday','Tuesday','Wednesday','Thursday','Friday','Saturday')\n",
    "days"
   ]
  },
  {
   "cell_type": "code",
   "execution_count": 11,
   "id": "b6feefe7",
   "metadata": {},
   "outputs": [
    {
     "name": "stdout",
     "output_type": "stream",
     "text": [
      "Today is Sunday\n",
      "Today is Monday\n",
      "Today is Tuesday\n",
      "Today is Wednesday\n",
      "Today is Thursday\n",
      "Today is Friday\n",
      "Today is Saturday\n"
     ]
    }
   ],
   "source": [
    "for day in days:\n",
    "    print(f\"Today is {day}\")"
   ]
  },
  {
   "cell_type": "code",
   "execution_count": 12,
   "id": "3dc2c393",
   "metadata": {},
   "outputs": [],
   "source": [
    "country_city_river_list = [('India','New Delhi','Ganga'),('Australia','canberra','rovea'),('US','Washington DC','pqr'),('England','London','xyz')]"
   ]
  },
  {
   "cell_type": "code",
   "execution_count": 16,
   "id": "199e2e33",
   "metadata": {},
   "outputs": [
    {
     "name": "stdout",
     "output_type": "stream",
     "text": [
      "The capital of country India is New Delhi and it also has river Ganga.\n",
      "The capital of country Australia is canberra and it also has river rovea.\n",
      "The capital of country US is Washington DC and it also has river pqr.\n",
      "The capital of country England is London and it also has river xyz.\n"
     ]
    }
   ],
   "source": [
    "for country,city,river in country_city_river_list:\n",
    "    print(f'The capital of country {country} is {city} and it also has river {river}.')"
   ]
  },
  {
   "cell_type": "code",
   "execution_count": 29,
   "id": "f725967d",
   "metadata": {},
   "outputs": [
    {
     "name": "stdout",
     "output_type": "stream",
     "text": [
      "1\n",
      "2\n",
      "3\n",
      "4\n",
      "5\n",
      "6\n",
      "7\n",
      "8\n",
      "9\n",
      "10\n"
     ]
    }
   ],
   "source": [
    "i = 1\n",
    "while i<=10:\n",
    "    print(i)\n",
    "    i = i+1"
   ]
  },
  {
   "cell_type": "code",
   "execution_count": 34,
   "id": "a91a4a87",
   "metadata": {},
   "outputs": [
    {
     "name": "stdout",
     "output_type": "stream",
     "text": [
      "1\n",
      "Data Science\n",
      "2\n",
      "Data Science\n",
      "3\n",
      "Data Science\n",
      "4\n",
      "Data Science\n",
      "5\n"
     ]
    }
   ],
   "source": [
    "i = 1\n",
    "while i<=10:\n",
    "    print(i)\n",
    "    if i>=5:\n",
    "        break\n",
    "    print(\"Data Science\")\n",
    "    i = i+1"
   ]
  },
  {
   "cell_type": "code",
   "execution_count": 35,
   "id": "4c44d6a5",
   "metadata": {},
   "outputs": [
    {
     "name": "stdout",
     "output_type": "stream",
     "text": [
      "1\n",
      "2\n",
      "3\n",
      "4\n"
     ]
    }
   ],
   "source": [
    "i = 1\n",
    "while i<=10:\n",
    "    print(i)\n",
    "    i+=1\n",
    "    if i==5:\n",
    "        break\n",
    "    "
   ]
  },
  {
   "cell_type": "code",
   "execution_count": 41,
   "id": "1187b5ff",
   "metadata": {},
   "outputs": [
    {
     "name": "stdout",
     "output_type": "stream",
     "text": [
      "1\n",
      "Python\n",
      "\n",
      "\n",
      "2\n",
      "3\n",
      "Python\n",
      "\n",
      "\n",
      "4\n",
      "Python\n",
      "\n",
      "\n",
      "5\n",
      "Python\n",
      "\n",
      "\n"
     ]
    }
   ],
   "source": [
    "i = 1\n",
    "while i<=5:\n",
    "    print(i)\n",
    "    i+=1\n",
    "    if i==3:\n",
    "        continue\n",
    "    print('Python')\n",
    "    print('\\n')\n",
    "    "
   ]
  },
  {
   "cell_type": "code",
   "execution_count": 47,
   "id": "1b1f2afe",
   "metadata": {},
   "outputs": [
    {
     "name": "stdout",
     "output_type": "stream",
     "text": [
      "x is currently:  0\n",
      "x is still less than 10, adding 1 to x\n",
      "continuing...\n",
      "x is currently:  1\n",
      "x is still less than 10, adding 1 to x\n",
      "continuing...\n",
      "x is currently:  2\n",
      "x is still less than 10, adding 1 to x\n",
      "continuing...\n",
      "x is currently:  3\n",
      "x is still less than 10, adding 1 to x\n",
      "continuing...\n",
      "x is currently:  4\n",
      "x is still less than 10, adding 1 to x\n",
      "x==5\n"
     ]
    }
   ],
   "source": [
    "x = 0\n",
    "while x<10:\n",
    "    print('x is currently: ', x)\n",
    "    print('x is still less than 10, adding 1 to x')\n",
    "    x+=1\n",
    "    if x==5:\n",
    "        print('x==5')\n",
    "        break\n",
    "    else:\n",
    "        print('continuing...')\n",
    "        continue"
   ]
  },
  {
   "cell_type": "code",
   "execution_count": 30,
   "id": "dea0ec04",
   "metadata": {},
   "outputs": [
    {
     "data": {
      "text/plain": [
       "[0, 1, 2, 3, 4, 5, 6, 7]"
      ]
     },
     "execution_count": 30,
     "metadata": {},
     "output_type": "execute_result"
    }
   ],
   "source": [
    "list(range(8))"
   ]
  },
  {
   "cell_type": "code",
   "execution_count": 4,
   "id": "da7216b3",
   "metadata": {},
   "outputs": [
    {
     "name": "stdout",
     "output_type": "stream",
     "text": [
      "5\n",
      "10\n",
      "15\n",
      "20\n",
      "25\n",
      "30\n",
      "35\n",
      "40\n",
      "45\n",
      "50\n"
     ]
    }
   ],
   "source": [
    "for i in range(5,51,5):\n",
    "    print(i)"
   ]
  },
  {
   "cell_type": "code",
   "execution_count": 3,
   "id": "18dfa008",
   "metadata": {},
   "outputs": [
    {
     "name": "stdout",
     "output_type": "stream",
     "text": [
      "3*1 = 3\n",
      "3*2 = 6\n",
      "3*3 = 9\n",
      "3*4 = 12\n",
      "3*5 = 15\n",
      "3*6 = 18\n",
      "3*7 = 21\n",
      "3*8 = 24\n",
      "3*9 = 27\n",
      "3*10 = 30\n"
     ]
    }
   ],
   "source": [
    "#print table of 3 using for loop\n",
    "for a in range(1,11):\n",
    "    #print('3*',a,' = ',3*a)\n",
    "    print (f'3*{a} = {3*a}')\n",
    "    "
   ]
  },
  {
   "cell_type": "code",
   "execution_count": 43,
   "id": "88732144",
   "metadata": {},
   "outputs": [
    {
     "name": "stdout",
     "output_type": "stream",
     "text": [
      "        * \n",
      "      * * * \n",
      "    * * * * * \n",
      "  * * * * * * * \n",
      "* * * * * * * * * \n"
     ]
    }
   ],
   "source": [
    "x = 0\n",
    "rows=5\n",
    "for i in range(1,rows+1):\n",
    "    for space in range(1,(rows-i)+1):\n",
    "        print(end=\"  \")\n",
    "        \n",
    "    while x!=(2*i-1):\n",
    "        print(\"*\",end=\" \")\n",
    "        x+=1\n",
    "    x=0\n",
    "    print()"
   ]
  },
  {
   "cell_type": "code",
   "execution_count": 1,
   "id": "8758052f",
   "metadata": {},
   "outputs": [
    {
     "name": "stdout",
     "output_type": "stream",
     "text": [
      "1\n",
      "Python\n",
      "2\n",
      "Python\n",
      "3\n",
      "Python\n",
      "4\n"
     ]
    }
   ],
   "source": [
    "i=1\n",
    "while i<=10:\n",
    "    print(i)\n",
    "    i+=1\n",
    "    if i==5:\n",
    "        break\n",
    "    print(\"Python\")"
   ]
  },
  {
   "cell_type": "code",
   "execution_count": 5,
   "id": "6ab2d1bc",
   "metadata": {},
   "outputs": [
    {
     "name": "stdout",
     "output_type": "stream",
     "text": [
      "1\n",
      "Python\n",
      "\n",
      "\n",
      "2\n",
      "Python\n",
      "\n",
      "\n",
      "3\n",
      "Python\n",
      "\n",
      "\n",
      "4\n",
      "Python\n",
      "\n",
      "\n",
      "5\n",
      "6\n",
      "Python\n",
      "\n",
      "\n",
      "7\n",
      "Python\n",
      "\n",
      "\n",
      "8\n",
      "Python\n",
      "\n",
      "\n",
      "9\n",
      "Python\n",
      "\n",
      "\n",
      "10\n",
      "Python\n",
      "\n",
      "\n"
     ]
    }
   ],
   "source": [
    "i=1\n",
    "while i<=10:\n",
    "    print(i)\n",
    "    i+=1\n",
    "    if i==6:\n",
    "        continue\n",
    "    print(\"Python\")\n",
    "    print('\\n')"
   ]
  },
  {
   "cell_type": "markdown",
   "id": "91e09799",
   "metadata": {},
   "source": [
    "Program to find reverse of a number"
   ]
  },
  {
   "cell_type": "code",
   "execution_count": 5,
   "id": "60703cda",
   "metadata": {},
   "outputs": [
    {
     "name": "stdout",
     "output_type": "stream",
     "text": [
      "Please enter a number you want to revese:- 7892\n",
      "reverse of number is  2987\n"
     ]
    }
   ],
   "source": [
    "n = int(input('Please enter a number you want to revese:- '))\n",
    "rev = 0\n",
    "while(n>0):\n",
    "    rem=n%10\n",
    "    rev = rev*10+rem\n",
    "    n=n//10  #n=int(n/10) also can be used\n",
    "print('reverse of number is ',rev)"
   ]
  },
  {
   "cell_type": "code",
   "execution_count": 9,
   "id": "4123c704",
   "metadata": {},
   "outputs": [
    {
     "name": "stdout",
     "output_type": "stream",
     "text": [
      "1 \n",
      "1 2 \n",
      "1 2 3 \n",
      "1 2 3 4 \n"
     ]
    }
   ],
   "source": [
    "for i in range(1,5):\n",
    "    for j in range(1,(i+1)):\n",
    "        print(j,end=' ')\n",
    "    print()"
   ]
  },
  {
   "cell_type": "code",
   "execution_count": null,
   "id": "1b99d58f",
   "metadata": {},
   "outputs": [],
   "source": []
  }
 ],
 "metadata": {
  "kernelspec": {
   "display_name": "Python 3 (ipykernel)",
   "language": "python",
   "name": "python3"
  },
  "language_info": {
   "codemirror_mode": {
    "name": "ipython",
    "version": 3
   },
   "file_extension": ".py",
   "mimetype": "text/x-python",
   "name": "python",
   "nbconvert_exporter": "python",
   "pygments_lexer": "ipython3",
   "version": "3.9.13"
  }
 },
 "nbformat": 4,
 "nbformat_minor": 5
}
